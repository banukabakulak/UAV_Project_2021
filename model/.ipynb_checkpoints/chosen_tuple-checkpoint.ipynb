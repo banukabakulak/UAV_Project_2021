{
 "cells": [
  {
   "cell_type": "code",
   "execution_count": 1,
   "id": "12cf9acc",
   "metadata": {},
   "outputs": [
    {
     "name": "stdout",
     "output_type": "stream",
     "text": [
      "[{'index': '0', 'name': 'x_0_0', 'value': '1.0'}, {'index': '2', 'name': 'x_1_0', 'value': '1.0'}, {'index': '3', 'name': 'x_1_1', 'value': '1.0'}, {'index': '4', 'name': 'x_2_0', 'value': '1.0'}, {'index': '5', 'name': 'x_2_1', 'value': '1.0'}]\n",
      "x_0_0\n",
      "x_1_0\n",
      "x_1_1\n",
      "x_2_0\n",
      "x_2_1\n"
     ]
    }
   ],
   "source": [
    "# Python program to demonstrate\n",
    "# Conversion of JSON data to\n",
    "# dictionary\n",
    "\n",
    "\n",
    "# importing the module\n",
    "import json\n",
    "\n",
    "# Opening JSON file\n",
    "with open('solution.json') as json_file:\n",
    "    data = json.load(json_file)\n",
    "    print(data['CPLEXSolution']['variables'])\n",
    "    \n",
    "    for var in data['CPLEXSolution']['variables']:\n",
    "        print(var['name'])\n",
    "        "
   ]
  },
  {
   "cell_type": "code",
   "execution_count": 2,
   "id": "40068031",
   "metadata": {},
   "outputs": [
    {
     "name": "stdout",
     "output_type": "stream",
     "text": [
      "5500\n"
     ]
    }
   ],
   "source": [
    "string_a = 'x_5500_5055402'\n",
    "\n",
    "initial = string_a[string_a.index('_')+1:]\n",
    "index = initial[0:initial.index('_')]\n",
    "\n",
    "print(index)"
   ]
  },
  {
   "cell_type": "code",
   "execution_count": 3,
   "id": "639a9d41",
   "metadata": {},
   "outputs": [
    {
     "name": "stdout",
     "output_type": "stream",
     "text": [
      "5055402\n"
     ]
    }
   ],
   "source": [
    "rest = string_a[string_a.index('_')+1:]\n",
    "number = rest[rest.index('_')+1:]\n",
    "\n",
    "print(number)"
   ]
  },
  {
   "cell_type": "code",
   "execution_count": 4,
   "id": "6c968035",
   "metadata": {},
   "outputs": [],
   "source": [
    "def chosen_tuple(string_a):\n",
    "    initial = string_a[string_a.index('_')+1:]\n",
    "    index = initial[0:initial.index('_')]\n",
    "\n",
    "    rest = string_a[string_a.index('_')+1:]\n",
    "    number = rest[rest.index('_')+1:]\n",
    "    \n",
    "    return (index, number)"
   ]
  },
  {
   "cell_type": "code",
   "execution_count": 5,
   "id": "3ec62f2a",
   "metadata": {},
   "outputs": [
    {
     "data": {
      "text/plain": [
       "('5500', '5055402')"
      ]
     },
     "execution_count": 5,
     "metadata": {},
     "output_type": "execute_result"
    }
   ],
   "source": [
    "chosen_tuple('x_5500_5055402')"
   ]
  },
  {
   "cell_type": "code",
   "execution_count": 6,
   "id": "c2e2813a",
   "metadata": {},
   "outputs": [],
   "source": [
    "from itertools import product\n",
    "from itertools import permutations"
   ]
  },
  {
   "cell_type": "code",
   "execution_count": 7,
   "id": "3b7f767f",
   "metadata": {},
   "outputs": [],
   "source": [
    "mytuple = [0,1,2]"
   ]
  },
  {
   "cell_type": "code",
   "execution_count": 8,
   "id": "2c653b19",
   "metadata": {},
   "outputs": [
    {
     "data": {
      "text/plain": [
       "[(0, 0), (0, 1), (0, 2), (1, 0), (1, 1), (1, 2), (2, 0), (2, 1), (2, 2)]"
      ]
     },
     "execution_count": 8,
     "metadata": {},
     "output_type": "execute_result"
    }
   ],
   "source": [
    "list(product(mytuple, repeat=2))"
   ]
  },
  {
   "cell_type": "code",
   "execution_count": 9,
   "id": "33495a57",
   "metadata": {},
   "outputs": [],
   "source": [
    "j = [0,1,2,3,4,5,6,7,8,9]"
   ]
  },
  {
   "cell_type": "code",
   "execution_count": 10,
   "id": "51c30323",
   "metadata": {},
   "outputs": [
    {
     "data": {
      "text/plain": [
       "[(0, 1),\n",
       " (0, 2),\n",
       " (0, 3),\n",
       " (0, 4),\n",
       " (0, 5),\n",
       " (0, 6),\n",
       " (0, 7),\n",
       " (0, 8),\n",
       " (0, 9),\n",
       " (1, 0),\n",
       " (1, 2),\n",
       " (1, 3),\n",
       " (1, 4),\n",
       " (1, 5),\n",
       " (1, 6),\n",
       " (1, 7),\n",
       " (1, 8),\n",
       " (1, 9),\n",
       " (2, 0),\n",
       " (2, 1),\n",
       " (2, 3),\n",
       " (2, 4),\n",
       " (2, 5),\n",
       " (2, 6),\n",
       " (2, 7),\n",
       " (2, 8),\n",
       " (2, 9),\n",
       " (3, 0),\n",
       " (3, 1),\n",
       " (3, 2),\n",
       " (3, 4),\n",
       " (3, 5),\n",
       " (3, 6),\n",
       " (3, 7),\n",
       " (3, 8),\n",
       " (3, 9),\n",
       " (4, 0),\n",
       " (4, 1),\n",
       " (4, 2),\n",
       " (4, 3),\n",
       " (4, 5),\n",
       " (4, 6),\n",
       " (4, 7),\n",
       " (4, 8),\n",
       " (4, 9),\n",
       " (5, 0),\n",
       " (5, 1),\n",
       " (5, 2),\n",
       " (5, 3),\n",
       " (5, 4),\n",
       " (5, 6),\n",
       " (5, 7),\n",
       " (5, 8),\n",
       " (5, 9),\n",
       " (6, 0),\n",
       " (6, 1),\n",
       " (6, 2),\n",
       " (6, 3),\n",
       " (6, 4),\n",
       " (6, 5),\n",
       " (6, 7),\n",
       " (6, 8),\n",
       " (6, 9),\n",
       " (7, 0),\n",
       " (7, 1),\n",
       " (7, 2),\n",
       " (7, 3),\n",
       " (7, 4),\n",
       " (7, 5),\n",
       " (7, 6),\n",
       " (7, 8),\n",
       " (7, 9),\n",
       " (8, 0),\n",
       " (8, 1),\n",
       " (8, 2),\n",
       " (8, 3),\n",
       " (8, 4),\n",
       " (8, 5),\n",
       " (8, 6),\n",
       " (8, 7),\n",
       " (8, 9),\n",
       " (9, 0),\n",
       " (9, 1),\n",
       " (9, 2),\n",
       " (9, 3),\n",
       " (9, 4),\n",
       " (9, 5),\n",
       " (9, 6),\n",
       " (9, 7),\n",
       " (9, 8)]"
      ]
     },
     "execution_count": 10,
     "metadata": {},
     "output_type": "execute_result"
    }
   ],
   "source": [
    "list(permutations(j, 2))"
   ]
  },
  {
   "cell_type": "code",
   "execution_count": null,
   "id": "801fdb15",
   "metadata": {},
   "outputs": [],
   "source": []
  }
 ],
 "metadata": {
  "kernelspec": {
   "display_name": "Python 3 (ipykernel)",
   "language": "python",
   "name": "python3"
  },
  "language_info": {
   "codemirror_mode": {
    "name": "ipython",
    "version": 3
   },
   "file_extension": ".py",
   "mimetype": "text/x-python",
   "name": "python",
   "nbconvert_exporter": "python",
   "pygments_lexer": "ipython3",
   "version": "3.9.7"
  }
 },
 "nbformat": 4,
 "nbformat_minor": 5
}
