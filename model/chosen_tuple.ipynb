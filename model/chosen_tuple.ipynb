{
 "cells": [
  {
   "cell_type": "code",
   "execution_count": 18,
   "id": "12cf9acc",
   "metadata": {},
   "outputs": [
    {
     "name": "stdout",
     "output_type": "stream",
     "text": [
      "[{'index': '2', 'name': 'x_1_0', 'value': '1.0'}, {'index': '3', 'name': 'x_1_1', 'value': '1.0'}, {'index': '4', 'name': 'x_2_0', 'value': '1.0'}, {'index': '5', 'name': 'x_2_1', 'value': '1.0'}]\n",
      "x_1_0\n",
      "2\n",
      "x_1_1\n",
      "3\n",
      "x_2_0\n",
      "4\n",
      "x_2_1\n",
      "5\n"
     ]
    }
   ],
   "source": [
    "# Python program to demonstrate\n",
    "# Conversion of JSON data to\n",
    "# dictionary\n",
    "\n",
    "\n",
    "# importing the module\n",
    "import json\n",
    "\n",
    "# Opening JSON file\n",
    "with open('solution.json') as json_file:\n",
    "    data = json.load(json_file)\n",
    "    print(data['CPLEXSolution']['variables'])\n",
    "    \n",
    "    for var in data['CPLEXSolution']['variables']:\n",
    "        print(var['name'])\n",
    "        "
   ]
  },
  {
   "cell_type": "code",
   "execution_count": 51,
   "id": "40068031",
   "metadata": {},
   "outputs": [
    {
     "name": "stdout",
     "output_type": "stream",
     "text": [
      "5500\n"
     ]
    }
   ],
   "source": [
    "string_a = 'x_5500_5055402'\n",
    "\n",
    "initial = string_a[string_a.index('_')+1:]\n",
    "index = initial[0:initial.index('_')]\n",
    "\n",
    "print(index)"
   ]
  },
  {
   "cell_type": "code",
   "execution_count": 52,
   "id": "639a9d41",
   "metadata": {},
   "outputs": [
    {
     "name": "stdout",
     "output_type": "stream",
     "text": [
      "5055402\n"
     ]
    }
   ],
   "source": [
    "rest = string_a[string_a.index('_')+1:]\n",
    "number = rest[rest.index('_')+1:]\n",
    "\n",
    "print(number)"
   ]
  },
  {
   "cell_type": "code",
   "execution_count": 53,
   "id": "6c968035",
   "metadata": {},
   "outputs": [],
   "source": [
    "def chosen_tuple(string_a):\n",
    "    initial = string_a[string_a.index('_')+1:]\n",
    "    index = initial[0:initial.index('_')]\n",
    "\n",
    "    rest = string_a[string_a.index('_')+1:]\n",
    "    number = rest[rest.index('_')+1:]\n",
    "    \n",
    "    return (index, number)"
   ]
  },
  {
   "cell_type": "code",
   "execution_count": 54,
   "id": "3ec62f2a",
   "metadata": {},
   "outputs": [
    {
     "data": {
      "text/plain": [
       "('5500', '5055402')"
      ]
     },
     "execution_count": 54,
     "metadata": {},
     "output_type": "execute_result"
    }
   ],
   "source": [
    "chosen_tuple('x_5500_5055402')"
   ]
  }
 ],
 "metadata": {
  "kernelspec": {
   "display_name": "Python 3 (ipykernel)",
   "language": "python",
   "name": "python3"
  },
  "language_info": {
   "codemirror_mode": {
    "name": "ipython",
    "version": 3
   },
   "file_extension": ".py",
   "mimetype": "text/x-python",
   "name": "python",
   "nbconvert_exporter": "python",
   "pygments_lexer": "ipython3",
   "version": "3.9.7"
  }
 },
 "nbformat": 4,
 "nbformat_minor": 5
}
